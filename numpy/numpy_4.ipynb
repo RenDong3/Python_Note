{
 "cells": [
  {
   "cell_type": "code",
   "execution_count": 2,
   "metadata": {},
   "outputs": [],
   "source": [
    "import numpy as np"
   ]
  },
  {
   "cell_type": "code",
   "execution_count": 42,
   "metadata": {},
   "outputs": [
    {
     "name": "stdout",
     "output_type": "stream",
     "text": [
      "True\n",
      "-------------------------------------------------------我是可爱的分割线\n",
      "(3, 4)\n",
      "-------------------------------------------------------我是可爱的分割线\n",
      "139921802922224\n",
      "-------------------------------------------------------我是可爱的分割线\n",
      "139921802922224\n"
     ]
    }
   ],
   "source": [
    "#复制操作\n",
    "#1  直接赋值 a,b完全一样  只是称呼不同\n",
    "a = np.arange(12)\n",
    "\n",
    "b = a\n",
    "print b is a\n",
    "print '-------------------------------------------------------我是可爱的分割线'\n",
    "\n",
    "#对b的shape做操作  a的shape也会变\n",
    "b.shape = (3,4)\n",
    "print a.shape\n",
    "print '-------------------------------------------------------我是可爱的分割线'\n",
    "\n",
    "#a,b具有相同的ID,存储位置一样\n",
    "print id(a)\n",
    "print '-------------------------------------------------------我是可爱的分割线'\n",
    "\n",
    "print id(b)"
   ]
  },
  {
   "cell_type": "code",
   "execution_count": 43,
   "metadata": {},
   "outputs": [
    {
     "name": "stdout",
     "output_type": "stream",
     "text": [
      "False\n",
      "-------------------------------------------------------我是可爱的分割线\n",
      "(3, 4)\n",
      "-------------------------------------------------------我是可爱的分割线\n",
      "[[ 0  1  2 55]\n",
      " [ 4  5  6  7]\n",
      " [ 8  9 10 11]]\n",
      "-------------------------------------------------------我是可爱的分割线\n",
      "139921802921584\n",
      "-------------------------------------------------------我是可爱的分割线\n",
      "139921802922224\n"
     ]
    }
   ],
   "source": [
    "#2 view()操作  c是一个新的data,不过含有和a一样的数据\n",
    "c = a.view()\n",
    "print c is a\n",
    "print '-------------------------------------------------------我是可爱的分割线'\n",
    "\n",
    "#c的shape改变  a不会改变shape\n",
    "c.shape = 2,6\n",
    "print a.shape\n",
    "print '-------------------------------------------------------我是可爱的分割线'\n",
    "\n",
    "#改变c 里面的data ,a也会发生改变,二者公用一套data\n",
    "c[0,3] = 55\n",
    "print a\n",
    "print '-------------------------------------------------------我是可爱的分割线'\n",
    "\n",
    "print id(c)\n",
    "print '-------------------------------------------------------我是可爱的分割线'\n",
    "\n",
    "print id(a)"
   ]
  },
  {
   "cell_type": "code",
   "execution_count": 45,
   "metadata": {},
   "outputs": [
    {
     "name": "stdout",
     "output_type": "stream",
     "text": [
      "False\n",
      "-------------------------------------------------------我是可爱的分割线\n",
      "[[99  1  2 55]\n",
      " [ 4  5  6  7]\n",
      " [ 8  9 10 11]]\n",
      "-------------------------------------------------------我是可爱的分割线\n",
      "[[ 0  1  2 55]\n",
      " [ 4  5  6  7]\n",
      " [ 8  9 10 11]]\n"
     ]
    }
   ],
   "source": [
    "#3  copy()\n",
    "#d是a经过copy操作之后的新数据   对d进行操作不会影响a\n",
    "d = a.copy()\n",
    "\n",
    "print d is a\n",
    "print '-------------------------------------------------------我是可爱的分割线'\n",
    "\n",
    "\n",
    "d[0,0] = 99\n",
    "\n",
    "\n",
    "\n",
    "print d\n",
    "print '-------------------------------------------------------我是可爱的分割线'\n",
    "\n",
    "print a"
   ]
  },
  {
   "cell_type": "code",
   "execution_count": 37,
   "metadata": {},
   "outputs": [
    {
     "name": "stdout",
     "output_type": "stream",
     "text": [
      "[[ 0.          0.84147098  0.90929743  0.14112001]\n",
      " [-0.7568025  -0.95892427 -0.2794155   0.6569866 ]\n",
      " [ 0.98935825  0.41211849 -0.54402111 -0.99999021]\n",
      " [-0.53657292  0.42016704  0.99060736  0.65028784]\n",
      " [-0.28790332 -0.96139749 -0.75098725  0.14987721]]\n"
     ]
    }
   ],
   "source": [
    "#利用sin函数构造数据\n",
    "data = np.sin(np.arange(20)).reshape((5,4))\n",
    "print data"
   ]
  },
  {
   "cell_type": "code",
   "execution_count": 38,
   "metadata": {},
   "outputs": [
    {
     "name": "stdout",
     "output_type": "stream",
     "text": [
      "[2 0 3 1]\n"
     ]
    }
   ],
   "source": [
    "#按照列找到最大值的索引 axis = 0对所有列执行操作\n",
    "index = np.argmax(data, axis = 0)\n",
    "print index"
   ]
  },
  {
   "cell_type": "code",
   "execution_count": 39,
   "metadata": {},
   "outputs": [
    {
     "name": "stdout",
     "output_type": "stream",
     "text": [
      "4\n",
      "-------------------------------------------------------我是可爱的分割线\n",
      "[0.98935825 0.84147098 0.99060736 0.6569866 ]\n"
     ]
    }
   ],
   "source": [
    "#利用索引打印出最大值   index    [[2,0,3,1]\n",
    " #                   range(4) [0,1,2,3]]  对应作为索引,得到data中的最大值\n",
    "print data.shape[1]\n",
    "print '-------------------------------------------------------我是可爱的分割线'\n",
    "\n",
    "print data[index, range(data.shape[1])]"
   ]
  },
  {
   "cell_type": "code",
   "execution_count": 17,
   "metadata": {},
   "outputs": [
    {
     "name": "stdout",
     "output_type": "stream",
     "text": [
      "[ 0 10 20 30]\n"
     ]
    }
   ],
   "source": [
    "#扩展操作\n",
    "a = np.arange(0, 40, 10)\n",
    "print a "
   ]
  },
  {
   "cell_type": "code",
   "execution_count": 19,
   "metadata": {},
   "outputs": [
    {
     "name": "stdout",
     "output_type": "stream",
     "text": [
      "[[ 0 10 20 30  0 10 20 30]\n",
      " [ 0 10 20 30  0 10 20 30]]\n"
     ]
    }
   ],
   "source": [
    "print np.tile(a, (2,2))"
   ]
  },
  {
   "cell_type": "code",
   "execution_count": 26,
   "metadata": {},
   "outputs": [
    {
     "name": "stdout",
     "output_type": "stream",
     "text": [
      "[[1 2 4]\n",
      " [2 3 6]]\n"
     ]
    }
   ],
   "source": [
    "#排序操作  默认从小到大排序\n",
    "a = np.array([[1,4,2],\n",
    "             [3,6,2]])\n",
    "\n",
    "#axis = 1 按照行进行排序\n",
    "a.sort(axis = 1)\n",
    "# np.sort(a, axis = 1)\n",
    "print a"
   ]
  },
  {
   "cell_type": "code",
   "execution_count": 28,
   "metadata": {},
   "outputs": [
    {
     "data": {
      "text/plain": [
       "array([[1, 2, 4],\n",
       "       [2, 3, 6]])"
      ]
     },
     "execution_count": 28,
     "metadata": {},
     "output_type": "execute_result"
    }
   ],
   "source": [
    "#axis = 0按照列进行排序\n",
    "np.sort(a, axis = 0)"
   ]
  },
  {
   "cell_type": "code",
   "execution_count": 41,
   "metadata": {},
   "outputs": [
    {
     "name": "stdout",
     "output_type": "stream",
     "text": [
      "[0 2 1]\n",
      "-------------------------------------------------------我是可爱的分割线\n",
      "[1 2 4]\n"
     ]
    }
   ],
   "source": [
    "a = np.array([1,4,2])\n",
    "\n",
    "#argsort得到顺序点索引\n",
    "index = np.argsort(a)\n",
    "print index\n",
    "print '-------------------------------------------------------我是可爱的分割线'\n",
    "\n",
    "#根据上一步索引可以得到排序后的结果\n",
    "print a[index]"
   ]
  },
  {
   "cell_type": "code",
   "execution_count": null,
   "metadata": {},
   "outputs": [],
   "source": []
  },
  {
   "cell_type": "code",
   "execution_count": null,
   "metadata": {},
   "outputs": [],
   "source": []
  }
 ],
 "metadata": {
  "kernelspec": {
   "display_name": "Python 2",
   "language": "python",
   "name": "python2"
  },
  "language_info": {
   "codemirror_mode": {
    "name": "ipython",
    "version": 2
   },
   "file_extension": ".py",
   "mimetype": "text/x-python",
   "name": "python",
   "nbconvert_exporter": "python",
   "pygments_lexer": "ipython2",
   "version": "2.7.12"
  }
 },
 "nbformat": 4,
 "nbformat_minor": 2
}
