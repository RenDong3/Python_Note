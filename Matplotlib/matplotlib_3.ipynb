{
 "cells": [
  {
   "cell_type": "code",
   "execution_count": 1,
   "metadata": {},
   "outputs": [],
   "source": [
    "import numpy as np\n",
    "import pandas as pd\n",
    "import matplotlib.pyplot as plt"
   ]
  },
  {
   "cell_type": "code",
   "execution_count": 2,
   "metadata": {},
   "outputs": [
    {
     "data": {
      "text/html": [
       "<div>\n",
       "<style scoped>\n",
       "    .dataframe tbody tr th:only-of-type {\n",
       "        vertical-align: middle;\n",
       "    }\n",
       "\n",
       "    .dataframe tbody tr th {\n",
       "        vertical-align: top;\n",
       "    }\n",
       "\n",
       "    .dataframe thead th {\n",
       "        text-align: right;\n",
       "    }\n",
       "</style>\n",
       "<table border=\"1\" class=\"dataframe\">\n",
       "  <thead>\n",
       "    <tr style=\"text-align: right;\">\n",
       "      <th></th>\n",
       "      <th>FILM</th>\n",
       "      <th>IMDB</th>\n",
       "      <th>Fandango_Ratingvalue</th>\n",
       "      <th>Fandango_Stars</th>\n",
       "      <th>RT_user_norm</th>\n",
       "    </tr>\n",
       "  </thead>\n",
       "  <tbody>\n",
       "    <tr>\n",
       "      <th>0</th>\n",
       "      <td>Avengers: Age of Ultron (2015)</td>\n",
       "      <td>7.8</td>\n",
       "      <td>4.5</td>\n",
       "      <td>5.0</td>\n",
       "      <td>4.3</td>\n",
       "    </tr>\n",
       "    <tr>\n",
       "      <th>1</th>\n",
       "      <td>Cinderella (2015)</td>\n",
       "      <td>7.1</td>\n",
       "      <td>4.5</td>\n",
       "      <td>5.0</td>\n",
       "      <td>4.0</td>\n",
       "    </tr>\n",
       "    <tr>\n",
       "      <th>2</th>\n",
       "      <td>Ant-Man (2015)</td>\n",
       "      <td>7.8</td>\n",
       "      <td>4.5</td>\n",
       "      <td>5.0</td>\n",
       "      <td>4.5</td>\n",
       "    </tr>\n",
       "    <tr>\n",
       "      <th>3</th>\n",
       "      <td>Do You Believe? (2015)</td>\n",
       "      <td>5.4</td>\n",
       "      <td>4.5</td>\n",
       "      <td>5.0</td>\n",
       "      <td>4.2</td>\n",
       "    </tr>\n",
       "    <tr>\n",
       "      <th>4</th>\n",
       "      <td>Hot Tub Time Machine 2 (2015)</td>\n",
       "      <td>5.1</td>\n",
       "      <td>3.0</td>\n",
       "      <td>3.5</td>\n",
       "      <td>1.4</td>\n",
       "    </tr>\n",
       "  </tbody>\n",
       "</table>\n",
       "</div>"
      ],
      "text/plain": [
       "                             FILM  IMDB  Fandango_Ratingvalue  Fandango_Stars  \\\n",
       "0  Avengers: Age of Ultron (2015)   7.8                   4.5             5.0   \n",
       "1               Cinderella (2015)   7.1                   4.5             5.0   \n",
       "2                  Ant-Man (2015)   7.8                   4.5             5.0   \n",
       "3          Do You Believe? (2015)   5.4                   4.5             5.0   \n",
       "4   Hot Tub Time Machine 2 (2015)   5.1                   3.0             3.5   \n",
       "\n",
       "   RT_user_norm  \n",
       "0           4.3  \n",
       "1           4.0  \n",
       "2           4.5  \n",
       "3           4.2  \n",
       "4           1.4  "
      ]
     },
     "execution_count": 2,
     "metadata": {},
     "output_type": "execute_result"
    }
   ],
   "source": [
    "                                       ####### 条形图 ############\n",
    "socres = pd.read_csv('fandango_scores.csv')\n",
    "\n",
    "fill = ['FILM', 'IMDB', 'Fandango_Ratingvalue', 'Fandango_Stars', 'RT_user_norm']\n",
    "film_scores = socres[fill]\n",
    "film_scores.head()"
   ]
  },
  {
   "cell_type": "code",
   "execution_count": 15,
   "metadata": {},
   "outputs": [
    {
     "name": "stdout",
     "output_type": "stream",
     "text": [
      "[7.8 4.5 5.0 4.3]\n",
      "--------------------------------\n",
      "[0.75 1.75 2.75 3.75]\n"
     ]
    },
    {
     "name": "stderr",
     "output_type": "stream",
     "text": [
      "/usr/local/lib/python2.7/dist-packages/ipykernel_launcher.py:4: DeprecationWarning: \n",
      ".ix is deprecated. Please use\n",
      ".loc for label based indexing or\n",
      ".iloc for positional indexing\n",
      "\n",
      "See the documentation here:\n",
      "http://pandas.pydata.org/pandas-docs/stable/indexing.html#ix-indexer-is-deprecated\n",
      "  after removing the cwd from sys.path.\n"
     ]
    },
    {
     "data": {
      "text/plain": [
       "<Container object of 4 artists>"
      ]
     },
     "execution_count": 15,
     "metadata": {},
     "output_type": "execute_result"
    },
    {
     "data": {
      "image/png": "[encoded data removed]",
      "text/plain": [
       "<matplotlib.figure.Figure at 0x7f461dc9e050>"
      ]
     },
     "metadata": {},
     "output_type": "display_data"
    },
    {
     "data": {
      "image/png": "[encoded data removed]",
      "text/plain": [
       "<matplotlib.figure.Figure at 0x7f461dc94a10>"
      ]
     },
     "metadata": {},
     "output_type": "display_data"
    }
   ],
   "source": [
    "num = ['IMDB', 'Fandango_Ratingvalue', 'Fandango_Stars', 'RT_user_norm']\n",
    "#ix 用来切分series \n",
    "#提取values作为条形图的高度\n",
    "bar_height = film_scores.ix[0, num].values\n",
    "print bar_height\n",
    "print '--------------------------------'\n",
    "bar_position = np.arange(4) + 0.75\n",
    "print bar_position\n",
    "\n",
    "#fig原图显示\n",
    "#0.3代表每个柱子的宽度  指定柱子的高度以及每个柱子距离原点的位置\n",
    "plt.bar(bar_position,bar_height, 0.3)\n",
    "\n",
    "#method 2 设置子图显示\n",
    "fig, ax= plt.subplots()\n",
    "ax.bar(bar_position, bar_height, 0.5)"
   ]
  },
  {
   "cell_type": "code",
   "execution_count": 18,
   "metadata": {},
   "outputs": [
    {
     "name": "stderr",
     "output_type": "stream",
     "text": [
      "/usr/local/lib/python2.7/dist-packages/ipykernel_launcher.py:2: DeprecationWarning: \n",
      ".ix is deprecated. Please use\n",
      ".loc for label based indexing or\n",
      ".iloc for positional indexing\n",
      "\n",
      "See the documentation here:\n",
      "http://pandas.pydata.org/pandas-docs/stable/indexing.html#ix-indexer-is-deprecated\n",
      "  \n"
     ]
    },
    {
     "data": {
      "image/png": "[encoded data removed]",
      "text/plain": [
       "<matplotlib.figure.Figure at 0x7f461e225410>"
      ]
     },
     "metadata": {},
     "output_type": "display_data"
    }
   ],
   "source": [
    "num = ['IMDB', 'Fandango_Ratingvalue', 'Fandango_Stars', 'RT_user_norm']\n",
    "bar_height = film_scores.ix[0, num].values\n",
    "bar_position = np.arange(4) + 0.5\n",
    "tick_position = np.arange(5)\n",
    "\n",
    "fig, ax = plt.subplots()\n",
    "ax.set_xticks(tick_position)\n",
    "ax.set_xlabel('rating source')\n",
    "ax.set_ylabel('average rating')\n",
    "ax.set_title('average user rating for film')\n",
    "ax.bar(bar_position, bar_height, 0.3)\n",
    "plt.show()"
   ]
  },
  {
   "cell_type": "code",
   "execution_count": 19,
   "metadata": {},
   "outputs": [
    {
     "name": "stderr",
     "output_type": "stream",
     "text": [
      "/usr/local/lib/python2.7/dist-packages/ipykernel_launcher.py:2: DeprecationWarning: \n",
      ".ix is deprecated. Please use\n",
      ".loc for label based indexing or\n",
      ".iloc for positional indexing\n",
      "\n",
      "See the documentation here:\n",
      "http://pandas.pydata.org/pandas-docs/stable/indexing.html#ix-indexer-is-deprecated\n",
      "  \n"
     ]
    },
    {
     "data": {
      "image/png": "[encoded data removed]",
      "text/plain": [
       "<matplotlib.figure.Figure at 0x7f461daf0350>"
      ]
     },
     "metadata": {},
     "output_type": "display_data"
    }
   ],
   "source": [
    "num = ['IMDB', 'Fandango_Ratingvalue', 'Fandango_Stars', 'RT_user_norm']\n",
    "bar_height = film_scores.ix[0, num].values\n",
    "bar_position = np.arange(4) + 0.5\n",
    "tick_position = np.arange(5)\n",
    "\n",
    "fig, ax = plt.subplots()\n",
    "ax.set_xticks(tick_position)\n",
    "ax.set_xlabel('rating source')\n",
    "ax.set_ylabel('average rating')\n",
    "ax.set_title('average user rating for film')\n",
    "#bar-->barh柱状图变为横向\n",
    "ax.barh(bar_position, bar_height, 0.3)\n",
    "plt.show()"
   ]
  },
  {
   "cell_type": "code",
   "execution_count": 23,
   "metadata": {},
   "outputs": [
    {
     "data": {
      "image/png": "[encoded data removed]",
      "text/plain": [
       "<matplotlib.figure.Figure at 0x7f461d649f10>"
      ]
     },
     "metadata": {},
     "output_type": "display_data"
    }
   ],
   "source": [
    "                      ####### 散点图 ##########\n",
    "fig, ax = plt.subplots()\n",
    "#绘制散点图\n",
    "ax.scatter(film_scores['RT_user_norm'], film_scores['Fandango_Ratingvalue'])\n",
    "ax.set_xlabel('Film')\n",
    "ax.set_ylabel('Scores')\n",
    "\n",
    "plt.show()"
   ]
  },
  {
   "cell_type": "code",
   "execution_count": 31,
   "metadata": {},
   "outputs": [
    {
     "data": {
      "image/png": "[encoded data removed]",
      "text/plain": [
       "<matplotlib.figure.Figure at 0x7f461e1fc090>"
      ]
     },
     "metadata": {},
     "output_type": "display_data"
    }
   ],
   "source": [
    "fig = plt.figure(figsize=(4,8))\n",
    "ax1 = fig.add_subplot(211)\n",
    "ax2 = fig.add_subplot(212)\n",
    "ax1.scatter(film_scores['RT_user_norm'], film_scores['Fandango_Ratingvalue'])\n",
    "ax1.set_xlabel('film')\n",
    "ax1.set_ylabel('scores')\n",
    "\n",
    "ax2.scatter(film_scores['Fandango_Stars'], film_scores['Fandango_Ratingvalue'])\n",
    "ax2.set_xlabel('film')\n",
    "ax2.set_ylabel('scores')\n",
    "#指定位置显示文本 smile\n",
    "ax2.text(4, 3, 'smile')\n",
    "\n",
    "#保存为图片\n",
    "fig.savefig('result.png')\n",
    "\n",
    "plt.show()"
   ]
  },
  {
   "cell_type": "code",
   "execution_count": 33,
   "metadata": {},
   "outputs": [
    {
     "data": {
      "text/plain": [
       "<matplotlib.patches.Circle at 0x7f461da4dd50>"
      ]
     },
     "execution_count": 33,
     "metadata": {},
     "output_type": "execute_result"
    },
    {
     "data": {
      "image/png": "[encoded data removed]",
      "text/plain": [
       "<matplotlib.figure.Figure at 0x7f461db07150>"
      ]
     },
     "metadata": {},
     "output_type": "display_data"
    }
   ],
   "source": [
    "#绘制常用图形\n",
    "fig = plt.figure()\n",
    "ax = fig.add_subplot(1,1,1)\n",
    "rect = plt.Rectangle((0.2,0.75),0.4,0.15,color='k',alpha=0.3)  #长方形\n",
    "circ = plt.Circle((0.7,0.2),0.15,color='b',alpha=0.3)      #椭圆形\n",
    "ax.add_patch(rect)   #添加到图版中\n",
    "ax.add_patch(circ)"
   ]
  },
  {
   "cell_type": "code",
   "execution_count": null,
   "metadata": {},
   "outputs": [],
   "source": []
  }
 ],
 "metadata": {
  "kernelspec": {
   "display_name": "Python 2",
   "language": "python",
   "name": "python2"
  },
  "language_info": {
   "codemirror_mode": {
    "name": "ipython",
    "version": 2
   },
   "file_extension": ".py",
   "mimetype": "text/x-python",
   "name": "python",
   "nbconvert_exporter": "python",
   "pygments_lexer": "ipython2",
   "version": "2.7.12"
  }
 },
 "nbformat": 4,
 "nbformat_minor": 2
}
